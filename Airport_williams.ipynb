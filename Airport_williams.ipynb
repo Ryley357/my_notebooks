{
 "cells": [
  {
   "cell_type": "markdown",
   "id": "7aa5489b-ab65-487d-8628-a2ee8b21721c",
   "metadata": {},
   "source": [
    "# Section 1\n"
   ]
  },
  {
   "cell_type": "markdown",
   "id": "fbf01883-418d-41be-b80d-486a2e41a881",
   "metadata": {},
   "source": [
    "### By Antanas and Ryley"
   ]
  },
  {
   "cell_type": "code",
   "execution_count": 116,
   "id": "81194bd5-ae0c-45a6-ae59-d765490802d0",
   "metadata": {},
   "outputs": [],
   "source": [
    "import pandas as pd\n",
    "import seaborn as sns\n",
    "import matplotlib.pyplot as plt"
   ]
  },
  {
   "cell_type": "code",
   "execution_count": 118,
   "id": "0f657706-b578-47f5-ae1a-457ad7964292",
   "metadata": {},
   "outputs": [
    {
     "name": "stderr",
     "output_type": "stream",
     "text": [
      "C:\\Users\\themr\\AppData\\Local\\Temp\\ipykernel_7364\\274973986.py:1: DtypeWarning: Columns (0) have mixed types. Specify dtype option on import or set low_memory=False.\n",
      "  data = pd.read_csv('tsa_claims1.csv')\n"
     ]
    },
    {
     "data": {
      "text/html": [
       "<div>\n",
       "<style scoped>\n",
       "    .dataframe tbody tr th:only-of-type {\n",
       "        vertical-align: middle;\n",
       "    }\n",
       "\n",
       "    .dataframe tbody tr th {\n",
       "        vertical-align: top;\n",
       "    }\n",
       "\n",
       "    .dataframe thead th {\n",
       "        text-align: right;\n",
       "    }\n",
       "</style>\n",
       "<table border=\"1\" class=\"dataframe\">\n",
       "  <thead>\n",
       "    <tr style=\"text-align: right;\">\n",
       "      <th></th>\n",
       "      <th>Claim Number</th>\n",
       "      <th>Date Received</th>\n",
       "      <th>Incident Date</th>\n",
       "      <th>Airport Code</th>\n",
       "      <th>Airport Name</th>\n",
       "      <th>Airline Name</th>\n",
       "      <th>Claim Type</th>\n",
       "      <th>Claim Site</th>\n",
       "      <th>Item</th>\n",
       "      <th>Claim Amount</th>\n",
       "      <th>Status</th>\n",
       "      <th>Close Amount</th>\n",
       "      <th>Disposition</th>\n",
       "    </tr>\n",
       "  </thead>\n",
       "  <tbody>\n",
       "    <tr>\n",
       "      <th>0</th>\n",
       "      <td>0909802M</td>\n",
       "      <td>4-Jan-02</td>\n",
       "      <td>12/12/2002 0:00</td>\n",
       "      <td>EWR</td>\n",
       "      <td>Newark International Airport</td>\n",
       "      <td>Continental Airlines</td>\n",
       "      <td>Property Damage</td>\n",
       "      <td>Checkpoint</td>\n",
       "      <td>Other</td>\n",
       "      <td>350.00</td>\n",
       "      <td>Approved</td>\n",
       "      <td>350.00</td>\n",
       "      <td>Approve in Full</td>\n",
       "    </tr>\n",
       "    <tr>\n",
       "      <th>1</th>\n",
       "      <td>0202445M</td>\n",
       "      <td>4-Feb-02</td>\n",
       "      <td>11/26/2003 0:00</td>\n",
       "      <td>STL</td>\n",
       "      <td>Lambert St. Louis International</td>\n",
       "      <td>American Airlines</td>\n",
       "      <td>Property Damage</td>\n",
       "      <td>Checked Baggage</td>\n",
       "      <td>Cell Phones</td>\n",
       "      <td>278.88</td>\n",
       "      <td>Settled</td>\n",
       "      <td>227.92</td>\n",
       "      <td>Settle</td>\n",
       "    </tr>\n",
       "    <tr>\n",
       "      <th>2</th>\n",
       "      <td>0909816M</td>\n",
       "      <td>7-Feb-02</td>\n",
       "      <td>1/6/2003 0:00</td>\n",
       "      <td>MIA</td>\n",
       "      <td>Miami International Airport</td>\n",
       "      <td>American Airlines</td>\n",
       "      <td>Property Damage</td>\n",
       "      <td>Checkpoint</td>\n",
       "      <td>Luggage (all types including footlockers)</td>\n",
       "      <td>50.00</td>\n",
       "      <td>Approved</td>\n",
       "      <td>50.00</td>\n",
       "      <td>Approve in Full</td>\n",
       "    </tr>\n",
       "    <tr>\n",
       "      <th>3</th>\n",
       "      <td>2005032379513</td>\n",
       "      <td>18-Feb-02</td>\n",
       "      <td>2/5/2005 0:00</td>\n",
       "      <td>MCO</td>\n",
       "      <td>Orlando International Airport</td>\n",
       "      <td>Delta (Song)</td>\n",
       "      <td>Property Damage</td>\n",
       "      <td>Checkpoint</td>\n",
       "      <td>Baby - Strollers; car seats; playpen; etc.</td>\n",
       "      <td>84.79</td>\n",
       "      <td>Approved</td>\n",
       "      <td>84.79</td>\n",
       "      <td>Approve in Full</td>\n",
       "    </tr>\n",
       "    <tr>\n",
       "      <th>4</th>\n",
       "      <td>2005032479636</td>\n",
       "      <td>18-Feb-02</td>\n",
       "      <td>2/17/2005 0:00</td>\n",
       "      <td>CAK</td>\n",
       "      <td>Akron-Canton Regional</td>\n",
       "      <td>Air Tran Airlines(do not use)</td>\n",
       "      <td>Passenger Property Loss</td>\n",
       "      <td>Checked Baggage</td>\n",
       "      <td>Other</td>\n",
       "      <td>459.01</td>\n",
       "      <td>Settled</td>\n",
       "      <td>227.00</td>\n",
       "      <td>Settle</td>\n",
       "    </tr>\n",
       "  </tbody>\n",
       "</table>\n",
       "</div>"
      ],
      "text/plain": [
       "    Claim Number Date Received    Incident Date Airport Code  \\\n",
       "0       0909802M      4-Jan-02  12/12/2002 0:00          EWR   \n",
       "1       0202445M      4-Feb-02  11/26/2003 0:00          STL   \n",
       "2       0909816M      7-Feb-02    1/6/2003 0:00          MIA   \n",
       "3  2005032379513     18-Feb-02    2/5/2005 0:00          MCO   \n",
       "4  2005032479636     18-Feb-02   2/17/2005 0:00          CAK   \n",
       "\n",
       "                      Airport Name                   Airline Name  \\\n",
       "0     Newark International Airport           Continental Airlines   \n",
       "1  Lambert St. Louis International              American Airlines   \n",
       "2      Miami International Airport              American Airlines   \n",
       "3    Orlando International Airport                   Delta (Song)   \n",
       "4            Akron-Canton Regional  Air Tran Airlines(do not use)   \n",
       "\n",
       "                Claim Type       Claim Site  \\\n",
       "0          Property Damage       Checkpoint   \n",
       "1          Property Damage  Checked Baggage   \n",
       "2          Property Damage       Checkpoint   \n",
       "3          Property Damage       Checkpoint   \n",
       "4  Passenger Property Loss  Checked Baggage   \n",
       "\n",
       "                                         Item  Claim Amount    Status  \\\n",
       "0                                       Other        350.00  Approved   \n",
       "1                                 Cell Phones        278.88   Settled   \n",
       "2   Luggage (all types including footlockers)         50.00  Approved   \n",
       "3  Baby - Strollers; car seats; playpen; etc.         84.79  Approved   \n",
       "4                                       Other        459.01   Settled   \n",
       "\n",
       "   Close Amount      Disposition  \n",
       "0        350.00  Approve in Full  \n",
       "1        227.92           Settle  \n",
       "2         50.00  Approve in Full  \n",
       "3         84.79  Approve in Full  \n",
       "4        227.00           Settle  "
      ]
     },
     "execution_count": 118,
     "metadata": {},
     "output_type": "execute_result"
    }
   ],
   "source": [
    "data = pd.read_csv('tsa_claims1.csv')\n",
    "data.head()"
   ]
  },
  {
   "cell_type": "code",
   "execution_count": 120,
   "id": "ad039d26-d0c7-4b98-8e17-76c9a3ae61fa",
   "metadata": {},
   "outputs": [
    {
     "name": "stdout",
     "output_type": "stream",
     "text": [
      "<class 'pandas.core.frame.DataFrame'>\n",
      "RangeIndex: 94848 entries, 0 to 94847\n",
      "Data columns (total 13 columns):\n",
      " #   Column         Non-Null Count  Dtype  \n",
      "---  ------         --------------  -----  \n",
      " 0   Claim Number   94848 non-null  object \n",
      " 1   Date Received  94848 non-null  object \n",
      " 2   Incident Date  94848 non-null  object \n",
      " 3   Airport Code   94848 non-null  object \n",
      " 4   Airport Name   94848 non-null  object \n",
      " 5   Airline Name   94848 non-null  object \n",
      " 6   Claim Type     94848 non-null  object \n",
      " 7   Claim Site     94848 non-null  object \n",
      " 8   Item           94848 non-null  object \n",
      " 9   Claim Amount   94848 non-null  float64\n",
      " 10  Status         94848 non-null  object \n",
      " 11  Close Amount   94848 non-null  float64\n",
      " 12  Disposition    94848 non-null  object \n",
      "dtypes: float64(2), object(11)\n",
      "memory usage: 9.4+ MB\n"
     ]
    }
   ],
   "source": [
    "data.info()\n"
   ]
  },
  {
   "cell_type": "code",
   "execution_count": 122,
   "id": "fd61bfd2-a01d-4325-9c6d-613a214fc735",
   "metadata": {},
   "outputs": [
    {
     "data": {
      "text/html": [
       "<div>\n",
       "<style scoped>\n",
       "    .dataframe tbody tr th:only-of-type {\n",
       "        vertical-align: middle;\n",
       "    }\n",
       "\n",
       "    .dataframe tbody tr th {\n",
       "        vertical-align: top;\n",
       "    }\n",
       "\n",
       "    .dataframe thead th {\n",
       "        text-align: right;\n",
       "    }\n",
       "</style>\n",
       "<table border=\"1\" class=\"dataframe\">\n",
       "  <thead>\n",
       "    <tr style=\"text-align: right;\">\n",
       "      <th></th>\n",
       "      <th>Claim Number</th>\n",
       "      <th>Airport Name</th>\n",
       "      <th>Claim Type</th>\n",
       "      <th>Claim Site</th>\n",
       "      <th>Claim Amount</th>\n",
       "      <th>Status</th>\n",
       "    </tr>\n",
       "  </thead>\n",
       "  <tbody>\n",
       "    <tr>\n",
       "      <th>0</th>\n",
       "      <td>0909802M</td>\n",
       "      <td>Newark International Airport</td>\n",
       "      <td>Property Damage</td>\n",
       "      <td>Checkpoint</td>\n",
       "      <td>350.00</td>\n",
       "      <td>Approved</td>\n",
       "    </tr>\n",
       "    <tr>\n",
       "      <th>1</th>\n",
       "      <td>0202445M</td>\n",
       "      <td>Lambert St. Louis International</td>\n",
       "      <td>Property Damage</td>\n",
       "      <td>Checked Baggage</td>\n",
       "      <td>278.88</td>\n",
       "      <td>Settled</td>\n",
       "    </tr>\n",
       "    <tr>\n",
       "      <th>2</th>\n",
       "      <td>0909816M</td>\n",
       "      <td>Miami International Airport</td>\n",
       "      <td>Property Damage</td>\n",
       "      <td>Checkpoint</td>\n",
       "      <td>50.00</td>\n",
       "      <td>Approved</td>\n",
       "    </tr>\n",
       "    <tr>\n",
       "      <th>3</th>\n",
       "      <td>2005032379513</td>\n",
       "      <td>Orlando International Airport</td>\n",
       "      <td>Property Damage</td>\n",
       "      <td>Checkpoint</td>\n",
       "      <td>84.79</td>\n",
       "      <td>Approved</td>\n",
       "    </tr>\n",
       "    <tr>\n",
       "      <th>4</th>\n",
       "      <td>2005032479636</td>\n",
       "      <td>Akron-Canton Regional</td>\n",
       "      <td>Passenger Property Loss</td>\n",
       "      <td>Checked Baggage</td>\n",
       "      <td>459.01</td>\n",
       "      <td>Settled</td>\n",
       "    </tr>\n",
       "  </tbody>\n",
       "</table>\n",
       "</div>"
      ],
      "text/plain": [
       "    Claim Number                     Airport Name               Claim Type  \\\n",
       "0       0909802M     Newark International Airport          Property Damage   \n",
       "1       0202445M  Lambert St. Louis International          Property Damage   \n",
       "2       0909816M      Miami International Airport          Property Damage   \n",
       "3  2005032379513    Orlando International Airport          Property Damage   \n",
       "4  2005032479636            Akron-Canton Regional  Passenger Property Loss   \n",
       "\n",
       "        Claim Site  Claim Amount    Status  \n",
       "0       Checkpoint        350.00  Approved  \n",
       "1  Checked Baggage        278.88   Settled  \n",
       "2       Checkpoint         50.00  Approved  \n",
       "3       Checkpoint         84.79  Approved  \n",
       "4  Checked Baggage        459.01   Settled  "
      ]
     },
     "execution_count": 122,
     "metadata": {},
     "output_type": "execute_result"
    }
   ],
   "source": [
    "data = data.drop(columns=['Close Amount', 'Disposition', 'Airline Name', 'Airport Code', 'Incident Date', 'Item', 'Date Received'])\n",
    "data.head()"
   ]
  },
  {
   "cell_type": "code",
   "execution_count": 124,
   "id": "b215c0e7-3c09-4aa1-b5d6-20020c2246f4",
   "metadata": {},
   "outputs": [
    {
     "data": {
      "text/plain": [
       "Claim Number    94848\n",
       "Airport Name      411\n",
       "Claim Type          6\n",
       "Claim Site          4\n",
       "Claim Amount    27013\n",
       "Status              5\n",
       "dtype: int64"
      ]
     },
     "execution_count": 124,
     "metadata": {},
     "output_type": "execute_result"
    }
   ],
   "source": [
    "data.nunique()"
   ]
  },
  {
   "cell_type": "code",
   "execution_count": 126,
   "id": "d5a0f97e-0208-40db-85a9-5bb98eef9250",
   "metadata": {},
   "outputs": [
    {
     "data": {
      "text/plain": [
       "<Axes: xlabel='Claim Type'>"
      ]
     },
     "execution_count": 126,
     "metadata": {},
     "output_type": "execute_result"
    },
    {
     "data": {
      "image/png": "[encoded data removed]",
      "text/plain": [
       "<Figure size 640x480 with 1 Axes>"
      ]
     },
     "metadata": {},
     "output_type": "display_data"
    }
   ],
   "source": [
    "claim_counts = data['Claim Type'].value_counts()\n",
    "claim_counts.plot(kind='bar')"
   ]
  },
  {
   "cell_type": "markdown",
   "id": "4eb9e6ff-d2d1-4730-b583-43ded32ccfd4",
   "metadata": {},
   "source": [
    "## Passenger Property Loss is the most common insurance claim type\n"
   ]
  },
  {
   "cell_type": "code",
   "execution_count": 129,
   "id": "c7636d28-4fd5-48aa-a032-becf54d9baa7",
   "metadata": {},
   "outputs": [
    {
     "data": {
      "text/plain": [
       "<Axes: xlabel='Claim Site'>"
      ]
     },
     "execution_count": 129,
     "metadata": {},
     "output_type": "execute_result"
    },
    {
     "data": {
      "image/png": "[encoded data removed]",
      "text/plain": [
       "<Figure size 640x480 with 1 Axes>"
      ]
     },
     "metadata": {},
     "output_type": "display_data"
    }
   ],
   "source": [
    "Site_counts = data['Claim Site'].value_counts()\n",
    "Site_counts.plot(kind='bar')"
   ]
  },
  {
   "cell_type": "markdown",
   "id": "22a5cf36-95ee-4d6a-a185-642f6d0684aa",
   "metadata": {},
   "source": [
    "## Checked Baggage is the most common site for claims"
   ]
  },
  {
   "cell_type": "code",
   "execution_count": 10,
   "id": "151e62c7-5222-486e-96b0-1a3a2b2b0ac6",
   "metadata": {},
   "outputs": [
    {
     "ename": "NameError",
     "evalue": "name 'data' is not defined",
     "output_type": "error",
     "traceback": [
      "\u001b[1;31m---------------------------------------------------------------------------\u001b[0m",
      "\u001b[1;31mNameError\u001b[0m                                 Traceback (most recent call last)",
      "Cell \u001b[1;32mIn[10], line 1\u001b[0m\n\u001b[1;32m----> 1\u001b[0m claimlocales \u001b[38;5;241m=\u001b[39m data\u001b[38;5;241m.\u001b[39mgroupby([\u001b[38;5;124m'\u001b[39m\u001b[38;5;124mClaim Type\u001b[39m\u001b[38;5;124m'\u001b[39m, \u001b[38;5;124m'\u001b[39m\u001b[38;5;124mClaim Site\u001b[39m\u001b[38;5;124m'\u001b[39m])\u001b[38;5;241m.\u001b[39msize()\u001b[38;5;241m.\u001b[39mreset_index(name\u001b[38;5;241m=\u001b[39m \u001b[38;5;124m'\u001b[39m\u001b[38;5;124mCount\u001b[39m\u001b[38;5;124m'\u001b[39m)\n\u001b[0;32m      2\u001b[0m claimlocalesgraph \u001b[38;5;241m=\u001b[39m sns\u001b[38;5;241m.\u001b[39mbarplot(data\u001b[38;5;241m=\u001b[39mclaimlocales, x\u001b[38;5;241m=\u001b[39m\u001b[38;5;124m'\u001b[39m\u001b[38;5;124mClaim Type\u001b[39m\u001b[38;5;124m'\u001b[39m, y\u001b[38;5;241m=\u001b[39m\u001b[38;5;124m'\u001b[39m\u001b[38;5;124mCount\u001b[39m\u001b[38;5;124m'\u001b[39m, hue\u001b[38;5;241m=\u001b[39m\u001b[38;5;124m'\u001b[39m\u001b[38;5;124mClaim Site\u001b[39m\u001b[38;5;124m'\u001b[39m)\n\u001b[0;32m      4\u001b[0m plt\u001b[38;5;241m.\u001b[39mxticks(rotation\u001b[38;5;241m=\u001b[39m\u001b[38;5;241m90\u001b[39m)\n",
      "\u001b[1;31mNameError\u001b[0m: name 'data' is not defined"
     ]
    }
   ],
   "source": [
    "claimlocales = data.groupby(['Claim Type', 'Claim Site']).size().reset_index(name= 'Count')\n",
    "claimlocalesgraph = sns.barplot(data=claimlocales, x='Claim Type', y='Count', hue='Claim Site')\n",
    "\n",
    "plt.xticks(rotation=90)\n",
    "plt.show()\n",
    "\n"
   ]
  },
  {
   "cell_type": "markdown",
   "id": "c5b68282-2457-437d-b188-a5f76bb3614a",
   "metadata": {},
   "source": [
    "## Employee Loss = Checked Baggage, Motor vehicle = N/A, Passenger Property Loss = Checked Baggage, Passenger Theft = Checked Baggage, Personal Injury = Checked Baggage, Propery Damage = Checked Baggage"
   ]
  },
  {
   "cell_type": "code",
   "execution_count": 135,
   "id": "3f5b6c2d-3a77-4045-b8fa-09678304614d",
   "metadata": {},
   "outputs": [],
   "source": [
    "Mean = data[['Claim Amount']].mean()"
   ]
  },
  {
   "cell_type": "code",
   "execution_count": 137,
   "id": "f3c2894f-aca2-485c-97b2-85df6efb2544",
   "metadata": {},
   "outputs": [
    {
     "data": {
      "text/plain": [
       "Claim Amount    3634.830998\n",
       "dtype: float64"
      ]
     },
     "execution_count": 137,
     "metadata": {},
     "output_type": "execute_result"
    }
   ],
   "source": [
    "Mean"
   ]
  },
  {
   "cell_type": "markdown",
   "id": "cb3a396a-2755-4756-acbc-c4b933663ed5",
   "metadata": {},
   "source": [
    "## The average claim amount is $3634.83"
   ]
  },
  {
   "cell_type": "code",
   "execution_count": 140,
   "id": "b0c041c6-076c-4787-9c1f-4b19a003d4ae",
   "metadata": {},
   "outputs": [
    {
     "data": {
      "text/plain": [
       "<Axes: ylabel='count'>"
      ]
     },
     "execution_count": 140,
     "metadata": {},
     "output_type": "execute_result"
    },
    {
     "data": {
      "image/png": "[encoded data removed]",
      "text/plain": [
       "<Figure size 640x480 with 1 Axes>"
      ]
     },
     "metadata": {},
     "output_type": "display_data"
    }
   ],
   "source": [
    "claim_counts = data['Status'].value_counts()\n",
    "claim_counts.plot(kind='pie', autopct='%1.1f%%')\n"
   ]
  },
  {
   "cell_type": "markdown",
   "id": "3b1f4a49-d87d-4d26-85c4-1428ca38c11b",
   "metadata": {},
   "source": [
    "## the overall claim approval rate is 24.4%"
   ]
  },
  {
   "cell_type": "markdown",
   "id": "00d72bb6-04dc-4fea-9d6e-b341f2c7b8ef",
   "metadata": {},
   "source": [
    "### By Antans and Ryley"
   ]
  },
  {
   "cell_type": "markdown",
   "id": "cdc30da2-344b-4d06-aa42-787ea8ccb32d",
   "metadata": {},
   "source": [
    "# SECTION 2"
   ]
  },
  {
   "cell_type": "code",
   "execution_count": 176,
   "id": "b49dc958-564e-4826-93a6-ecda74d26b7e",
   "metadata": {},
   "outputs": [
    {
     "name": "stderr",
     "output_type": "stream",
     "text": [
      "C:\\Users\\themr\\AppData\\Local\\Temp\\ipykernel_7364\\3546493294.py:1: DtypeWarning: Columns (0,11,12) have mixed types. Specify dtype option on import or set low_memory=False.\n",
      "  data2 = pd.read_csv('tsa_claims2.csv')\n"
     ]
    },
    {
     "data": {
      "text/html": [
       "<div>\n",
       "<style scoped>\n",
       "    .dataframe tbody tr th:only-of-type {\n",
       "        vertical-align: middle;\n",
       "    }\n",
       "\n",
       "    .dataframe tbody tr th {\n",
       "        vertical-align: top;\n",
       "    }\n",
       "\n",
       "    .dataframe thead th {\n",
       "        text-align: right;\n",
       "    }\n",
       "</style>\n",
       "<table border=\"1\" class=\"dataframe\">\n",
       "  <thead>\n",
       "    <tr style=\"text-align: right;\">\n",
       "      <th></th>\n",
       "      <th>Claim Number</th>\n",
       "      <th>Date Received</th>\n",
       "      <th>Incident Date</th>\n",
       "      <th>Airport Code</th>\n",
       "      <th>Airport Name</th>\n",
       "      <th>Airline Name</th>\n",
       "      <th>Claim Type</th>\n",
       "      <th>Claim Site</th>\n",
       "      <th>Item</th>\n",
       "      <th>Claim Amount</th>\n",
       "      <th>Status</th>\n",
       "      <th>Close Amount</th>\n",
       "      <th>Disposition</th>\n",
       "    </tr>\n",
       "  </thead>\n",
       "  <tbody>\n",
       "    <tr>\n",
       "      <th>0</th>\n",
       "      <td>0909802M</td>\n",
       "      <td>4-Jan-02</td>\n",
       "      <td>12/12/2002 0:00</td>\n",
       "      <td>EWR</td>\n",
       "      <td>Newark International Airport</td>\n",
       "      <td>Continental Airlines</td>\n",
       "      <td>Property Damage</td>\n",
       "      <td>Checkpoint</td>\n",
       "      <td>Other</td>\n",
       "      <td>$350.00</td>\n",
       "      <td>Approved</td>\n",
       "      <td>$350.00</td>\n",
       "      <td>Approve in Full</td>\n",
       "    </tr>\n",
       "    <tr>\n",
       "      <th>1</th>\n",
       "      <td>0202417M</td>\n",
       "      <td>2-Feb-02</td>\n",
       "      <td>1/16/2004 0:00</td>\n",
       "      <td>SEA</td>\n",
       "      <td>Seattle-Tacoma International</td>\n",
       "      <td>NaN</td>\n",
       "      <td>Property Damage</td>\n",
       "      <td>Checked Baggage</td>\n",
       "      <td>Luggage (all types including footlockers)</td>\n",
       "      <td>$100.00</td>\n",
       "      <td>Settled</td>\n",
       "      <td>$50.00</td>\n",
       "      <td>Settle</td>\n",
       "    </tr>\n",
       "    <tr>\n",
       "      <th>2</th>\n",
       "      <td>0202445M</td>\n",
       "      <td>4-Feb-02</td>\n",
       "      <td>11/26/2003 0:00</td>\n",
       "      <td>STL</td>\n",
       "      <td>Lambert St. Louis International</td>\n",
       "      <td>American Airlines</td>\n",
       "      <td>Property Damage</td>\n",
       "      <td>Checked Baggage</td>\n",
       "      <td>Cell Phones</td>\n",
       "      <td>$278.88</td>\n",
       "      <td>Settled</td>\n",
       "      <td>$227.92</td>\n",
       "      <td>Settle</td>\n",
       "    </tr>\n",
       "    <tr>\n",
       "      <th>3</th>\n",
       "      <td>0909816M</td>\n",
       "      <td>7-Feb-02</td>\n",
       "      <td>1/6/2003 0:00</td>\n",
       "      <td>MIA</td>\n",
       "      <td>Miami International Airport</td>\n",
       "      <td>American Airlines</td>\n",
       "      <td>Property Damage</td>\n",
       "      <td>Checkpoint</td>\n",
       "      <td>Luggage (all types including footlockers)</td>\n",
       "      <td>$50.00</td>\n",
       "      <td>Approved</td>\n",
       "      <td>$50.00</td>\n",
       "      <td>Approve in Full</td>\n",
       "    </tr>\n",
       "    <tr>\n",
       "      <th>4</th>\n",
       "      <td>2005032379513</td>\n",
       "      <td>18-Feb-02</td>\n",
       "      <td>2/5/2005 0:00</td>\n",
       "      <td>MCO</td>\n",
       "      <td>Orlando International Airport</td>\n",
       "      <td>Delta (Song)</td>\n",
       "      <td>Property Damage</td>\n",
       "      <td>Checkpoint</td>\n",
       "      <td>Baby - Strollers; car seats; playpen; etc.</td>\n",
       "      <td>$84.79</td>\n",
       "      <td>Approved</td>\n",
       "      <td>$84.79</td>\n",
       "      <td>Approve in Full</td>\n",
       "    </tr>\n",
       "  </tbody>\n",
       "</table>\n",
       "</div>"
      ],
      "text/plain": [
       "    Claim Number Date Received    Incident Date Airport Code  \\\n",
       "0       0909802M      4-Jan-02  12/12/2002 0:00          EWR   \n",
       "1       0202417M      2-Feb-02   1/16/2004 0:00          SEA   \n",
       "2       0202445M      4-Feb-02  11/26/2003 0:00          STL   \n",
       "3       0909816M      7-Feb-02    1/6/2003 0:00          MIA   \n",
       "4  2005032379513     18-Feb-02    2/5/2005 0:00          MCO   \n",
       "\n",
       "                      Airport Name          Airline Name       Claim Type  \\\n",
       "0     Newark International Airport  Continental Airlines  Property Damage   \n",
       "1     Seattle-Tacoma International                   NaN  Property Damage   \n",
       "2  Lambert St. Louis International     American Airlines  Property Damage   \n",
       "3      Miami International Airport     American Airlines  Property Damage   \n",
       "4    Orlando International Airport          Delta (Song)  Property Damage   \n",
       "\n",
       "        Claim Site                                        Item Claim Amount  \\\n",
       "0       Checkpoint                                       Other     $350.00    \n",
       "1  Checked Baggage   Luggage (all types including footlockers)     $100.00    \n",
       "2  Checked Baggage                                 Cell Phones     $278.88    \n",
       "3       Checkpoint   Luggage (all types including footlockers)      $50.00    \n",
       "4       Checkpoint  Baby - Strollers; car seats; playpen; etc.      $84.79    \n",
       "\n",
       "     Status Close Amount      Disposition  \n",
       "0  Approved     $350.00   Approve in Full  \n",
       "1   Settled      $50.00            Settle  \n",
       "2   Settled     $227.92            Settle  \n",
       "3  Approved      $50.00   Approve in Full  \n",
       "4  Approved      $84.79   Approve in Full  "
      ]
     },
     "execution_count": 176,
     "metadata": {},
     "output_type": "execute_result"
    }
   ],
   "source": [
    "data2 = pd.read_csv('tsa_claims2.csv')\n",
    "data2.head()"
   ]
  },
  {
   "cell_type": "code",
   "execution_count": 180,
   "id": "e2b3ea50-f267-4fbb-8195-0d49eed2da8f",
   "metadata": {},
   "outputs": [],
   "source": [
    "def convert_money(value):\n",
    "    if isinstance(value, str):\n",
    "        value = (value.replace('$', ''). replace(',', ''))\n",
    "        try:\n",
    "            return float(value)\n",
    "        except ValueError:\n",
    "            return None\n",
    "        return None\n",
    "\n",
    "data2['Claim Amount'] = data2['Claim Amount'].apply(convert_money)\n",
    "data2['Close Amount'] = data2['Close Amount'].apply(convert_money)"
   ]
  },
  {
   "cell_type": "code",
   "execution_count": 182,
   "id": "3dd3feb3-9a90-485a-bce0-37956739396f",
   "metadata": {},
   "outputs": [],
   "source": [
    "data2.dropna(inplace=True)"
   ]
  },
  {
   "cell_type": "code",
   "execution_count": 184,
   "id": "58298c7b-6983-4eff-9366-633f46116985",
   "metadata": {},
   "outputs": [],
   "source": [
    "float_value = data2.select_dtypes(include=['float'])"
   ]
  },
  {
   "cell_type": "code",
   "execution_count": 186,
   "id": "a4ab1b22-764a-41c3-a9f0-6aee1daa96e8",
   "metadata": {},
   "outputs": [],
   "source": [
    "date_value = data2.select_dtypes(include=['datetime'])"
   ]
  },
  {
   "cell_type": "code",
   "execution_count": null,
   "id": "ab128fcd-bb68-402a-ab24-ce6ec371863d",
   "metadata": {},
   "outputs": [],
   "source": []
  },
  {
   "cell_type": "code",
   "execution_count": 201,
   "id": "bb5aeaf9-3ff9-4042-9355-8f2109067a9d",
   "metadata": {},
   "outputs": [
    {
     "data": {
      "text/html": [
       "<div>\n",
       "<style scoped>\n",
       "    .dataframe tbody tr th:only-of-type {\n",
       "        vertical-align: middle;\n",
       "    }\n",
       "\n",
       "    .dataframe tbody tr th {\n",
       "        vertical-align: top;\n",
       "    }\n",
       "\n",
       "    .dataframe thead th {\n",
       "        text-align: right;\n",
       "    }\n",
       "</style>\n",
       "<table border=\"1\" class=\"dataframe\">\n",
       "  <thead>\n",
       "    <tr style=\"text-align: right;\">\n",
       "      <th></th>\n",
       "      <th>Claim Number</th>\n",
       "      <th>Date Received</th>\n",
       "      <th>Incident Date</th>\n",
       "      <th>Airport Code</th>\n",
       "      <th>Airport Name</th>\n",
       "      <th>Airline Name</th>\n",
       "      <th>Claim Type</th>\n",
       "      <th>Claim Site</th>\n",
       "      <th>Item</th>\n",
       "      <th>Claim Amount</th>\n",
       "      <th>Status</th>\n",
       "      <th>Close Amount</th>\n",
       "      <th>Disposition</th>\n",
       "      <th>prentage_paid</th>\n",
       "    </tr>\n",
       "  </thead>\n",
       "  <tbody>\n",
       "    <tr>\n",
       "      <th>0</th>\n",
       "      <td>0909802M</td>\n",
       "      <td>4-Jan-02</td>\n",
       "      <td>12/12/2002 0:00</td>\n",
       "      <td>EWR</td>\n",
       "      <td>Newark International Airport</td>\n",
       "      <td>Continental Airlines</td>\n",
       "      <td>Property Damage</td>\n",
       "      <td>Checkpoint</td>\n",
       "      <td>Other</td>\n",
       "      <td>350.00</td>\n",
       "      <td>Approved</td>\n",
       "      <td>350.00</td>\n",
       "      <td>Approve in Full</td>\n",
       "      <td>100.000000</td>\n",
       "    </tr>\n",
       "    <tr>\n",
       "      <th>2</th>\n",
       "      <td>0202445M</td>\n",
       "      <td>4-Feb-02</td>\n",
       "      <td>11/26/2003 0:00</td>\n",
       "      <td>STL</td>\n",
       "      <td>Lambert St. Louis International</td>\n",
       "      <td>American Airlines</td>\n",
       "      <td>Property Damage</td>\n",
       "      <td>Checked Baggage</td>\n",
       "      <td>Cell Phones</td>\n",
       "      <td>278.88</td>\n",
       "      <td>Settled</td>\n",
       "      <td>227.92</td>\n",
       "      <td>Settle</td>\n",
       "      <td>81.726908</td>\n",
       "    </tr>\n",
       "    <tr>\n",
       "      <th>3</th>\n",
       "      <td>0909816M</td>\n",
       "      <td>7-Feb-02</td>\n",
       "      <td>1/6/2003 0:00</td>\n",
       "      <td>MIA</td>\n",
       "      <td>Miami International Airport</td>\n",
       "      <td>American Airlines</td>\n",
       "      <td>Property Damage</td>\n",
       "      <td>Checkpoint</td>\n",
       "      <td>Luggage (all types including footlockers)</td>\n",
       "      <td>50.00</td>\n",
       "      <td>Approved</td>\n",
       "      <td>50.00</td>\n",
       "      <td>Approve in Full</td>\n",
       "      <td>100.000000</td>\n",
       "    </tr>\n",
       "    <tr>\n",
       "      <th>4</th>\n",
       "      <td>2005032379513</td>\n",
       "      <td>18-Feb-02</td>\n",
       "      <td>2/5/2005 0:00</td>\n",
       "      <td>MCO</td>\n",
       "      <td>Orlando International Airport</td>\n",
       "      <td>Delta (Song)</td>\n",
       "      <td>Property Damage</td>\n",
       "      <td>Checkpoint</td>\n",
       "      <td>Baby - Strollers; car seats; playpen; etc.</td>\n",
       "      <td>84.79</td>\n",
       "      <td>Approved</td>\n",
       "      <td>84.79</td>\n",
       "      <td>Approve in Full</td>\n",
       "      <td>100.000000</td>\n",
       "    </tr>\n",
       "    <tr>\n",
       "      <th>5</th>\n",
       "      <td>2005032479636</td>\n",
       "      <td>18-Feb-02</td>\n",
       "      <td>2/17/2005 0:00</td>\n",
       "      <td>CAK</td>\n",
       "      <td>Akron-Canton Regional</td>\n",
       "      <td>Air Tran Airlines(do not use)</td>\n",
       "      <td>Passenger Property Loss</td>\n",
       "      <td>Checked Baggage</td>\n",
       "      <td>Other</td>\n",
       "      <td>459.01</td>\n",
       "      <td>Settled</td>\n",
       "      <td>227.00</td>\n",
       "      <td>Settle</td>\n",
       "      <td>49.454260</td>\n",
       "    </tr>\n",
       "  </tbody>\n",
       "</table>\n",
       "</div>"
      ],
      "text/plain": [
       "    Claim Number Date Received    Incident Date Airport Code  \\\n",
       "0       0909802M      4-Jan-02  12/12/2002 0:00          EWR   \n",
       "2       0202445M      4-Feb-02  11/26/2003 0:00          STL   \n",
       "3       0909816M      7-Feb-02    1/6/2003 0:00          MIA   \n",
       "4  2005032379513     18-Feb-02    2/5/2005 0:00          MCO   \n",
       "5  2005032479636     18-Feb-02   2/17/2005 0:00          CAK   \n",
       "\n",
       "                      Airport Name                   Airline Name  \\\n",
       "0     Newark International Airport           Continental Airlines   \n",
       "2  Lambert St. Louis International              American Airlines   \n",
       "3      Miami International Airport              American Airlines   \n",
       "4    Orlando International Airport                   Delta (Song)   \n",
       "5            Akron-Canton Regional  Air Tran Airlines(do not use)   \n",
       "\n",
       "                Claim Type       Claim Site  \\\n",
       "0          Property Damage       Checkpoint   \n",
       "2          Property Damage  Checked Baggage   \n",
       "3          Property Damage       Checkpoint   \n",
       "4          Property Damage       Checkpoint   \n",
       "5  Passenger Property Loss  Checked Baggage   \n",
       "\n",
       "                                         Item  Claim Amount    Status  \\\n",
       "0                                       Other        350.00  Approved   \n",
       "2                                 Cell Phones        278.88   Settled   \n",
       "3   Luggage (all types including footlockers)         50.00  Approved   \n",
       "4  Baby - Strollers; car seats; playpen; etc.         84.79  Approved   \n",
       "5                                       Other        459.01   Settled   \n",
       "\n",
       "   Close Amount      Disposition  prentage_paid  \n",
       "0        350.00  Approve in Full     100.000000  \n",
       "2        227.92           Settle      81.726908  \n",
       "3         50.00  Approve in Full     100.000000  \n",
       "4         84.79  Approve in Full     100.000000  \n",
       "5        227.00           Settle      49.454260  "
      ]
     },
     "execution_count": 201,
     "metadata": {},
     "output_type": "execute_result"
    }
   ],
   "source": [
    "approved = data2[data2['Status'].isin(['Approved', 'Settled'])].copy()\n",
    "approved = data2[data2['Claim Amount'].notna() & (approved['Claim Amount'] != 0)].copy()\n",
    "approved['prentage_paid'] = (approved['Close Amount'] / approved['Claim Amount']) * 100\n",
    "approved.head()"
   ]
  },
  {
   "cell_type": "code",
   "execution_count": 203,
   "id": "5ca8e3f5-a796-43b0-9972-30a5b52dbe63",
   "metadata": {},
   "outputs": [],
   "source": [
    "meanpaid = approved['prentage_paid'].mean()"
   ]
  },
  {
   "cell_type": "code",
   "execution_count": 205,
   "id": "0e9fbf15-a379-4e16-bc32-af6ac5745b02",
   "metadata": {},
   "outputs": [
    {
     "name": "stdout",
     "output_type": "stream",
     "text": [
      "79.98959975518603\n"
     ]
    }
   ],
   "source": [
    "print(meanpaid)"
   ]
  },
  {
   "cell_type": "markdown",
   "id": "ae743984-1136-4fb5-9cac-910a54d37f40",
   "metadata": {},
   "source": [
    "## On average they pay about 80% of the claim amount"
   ]
  },
  {
   "cell_type": "code",
   "execution_count": 223,
   "id": "497e0208-87e1-4b25-ace9-806b54c1a8b9",
   "metadata": {},
   "outputs": [
    {
     "data": {
      "text/plain": [
       "Airport Name\n",
       "Los Angeles International Airport       4492\n",
       "John F. Kennedy International           3835\n",
       "Chicago O'Hare International Airport    3620\n",
       "Newark International Airport            3594\n",
       "Miami International Airport             2986\n",
       "Name: count, dtype: int64"
      ]
     },
     "execution_count": 223,
     "metadata": {},
     "output_type": "execute_result"
    }
   ],
   "source": [
    "airport_counts = data['Airport Name'].value_counts()\n",
    "airport_counts.head()\n"
   ]
  },
  {
   "cell_type": "markdown",
   "id": "ec030e82-3090-4345-98b1-76a1fabc1f38",
   "metadata": {},
   "source": [
    "## The Airports with the most claims are above "
   ]
  },
  {
   "cell_type": "code",
   "execution_count": 228,
   "id": "8b9717ca-eb0b-4407-a223-a9e8ce6aa8ff",
   "metadata": {},
   "outputs": [
    {
     "data": {
      "text/plain": [
       "[<matplotlib.lines.Line2D at 0x2264fe94170>]"
      ]
     },
     "execution_count": 228,
     "metadata": {},
     "output_type": "execute_result"
    },
    {
     "data": {
      "image/png": "[encoded data removed]",
      "text/plain": [
       "<Figure size 640x480 with 1 Axes>"
      ]
     },
     "metadata": {},
     "output_type": "display_data"
    }
   ],
   "source": [
    "incident_counts = data2['Incident Date'].value_counts().sort_index()\n",
    "plt.plot(incident_counts.index, incident_counts.values, marker='o')\n",
    "plt.show"
   ]
  },
  {
   "cell_type": "markdown",
   "id": "a23502e2-48fb-4b51-8783-b5c9e6dcbb20",
   "metadata": {},
   "source": [
    "## The amount of claims closed has fluxuated over time but has not significantly went up or down"
   ]
  },
  {
   "cell_type": "markdown",
   "id": "bfa77ced-5fcf-4521-bd52-b3d814409873",
   "metadata": {},
   "source": [
    "## I believe there was an error in the instructions regarding the question \"Has the total close amount increased or decreased over time?\" as it doesnt make logical sense to ask however, the answer to the question is that it increased as there is only more money being closed/given"
   ]
  },
  {
   "cell_type": "code",
   "execution_count": null,
   "id": "f3abd2e7-30c0-4b13-9db0-47001374c92e",
   "metadata": {},
   "outputs": [],
   "source": []
  }
 ],
 "metadata": {
  "kernelspec": {
   "display_name": "Python 3 (ipykernel)",
   "language": "python",
   "name": "python3"
  },
  "language_info": {
   "codemirror_mode": {
    "name": "ipython",
    "version": 3
   },
   "file_extension": ".py",
   "mimetype": "text/x-python",
   "name": "python",
   "nbconvert_exporter": "python",
   "pygments_lexer": "ipython3",
   "version": "3.12.4"
  }
 },
 "nbformat": 4,
 "nbformat_minor": 5
}
